{
 "cells": [
  {
   "cell_type": "code",
   "execution_count": 1,
   "id": "cfe68265-2187-4c97-92b2-b3cda6a10cab",
   "metadata": {},
   "outputs": [],
   "source": [
    "import os\n",
    "import sys\n",
    "from pathlib import Path"
   ]
  },
  {
   "cell_type": "code",
   "execution_count": 2,
   "id": "0abae864-95b1-4e9d-a88d-1ec728f00403",
   "metadata": {},
   "outputs": [],
   "source": [
    "sys.path.append(os.path.join(Path().resolve(), '..'))"
   ]
  },
  {
   "cell_type": "code",
   "execution_count": 3,
   "id": "b017a203-0fdc-4df6-9d9c-5f2363d69e04",
   "metadata": {},
   "outputs": [],
   "source": [
    "from pipeline.submodules.submodule import do_something"
   ]
  },
  {
   "cell_type": "code",
   "execution_count": 4,
   "id": "045755dd-8926-43bf-9b9d-c3b447f29767",
   "metadata": {},
   "outputs": [
    {
     "name": "stderr",
     "output_type": "stream",
     "text": [
      "2025-01-10 02:05:56 pipeline.submodules.submodule[do_something]: [INFO] do something\n"
     ]
    }
   ],
   "source": [
    "do_something()"
   ]
  },
  {
   "cell_type": "code",
   "execution_count": null,
   "id": "4df15114-529b-41d8-a335-83778fdda45e",
   "metadata": {},
   "outputs": [],
   "source": []
  }
 ],
 "metadata": {
  "kernelspec": {
   "display_name": "Python 3 (ipykernel)",
   "language": "python",
   "name": "python3"
  },
  "language_info": {
   "codemirror_mode": {
    "name": "ipython",
    "version": 3
   },
   "file_extension": ".py",
   "mimetype": "text/x-python",
   "name": "python",
   "nbconvert_exporter": "python",
   "pygments_lexer": "ipython3",
   "version": "3.11.6"
  }
 },
 "nbformat": 4,
 "nbformat_minor": 5
}
